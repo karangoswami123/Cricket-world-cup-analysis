{
 "cells": [
  {
   "cell_type": "code",
   "execution_count": 2,
   "metadata": {},
   "outputs": [],
   "source": [
    "import pandas as pd\n",
    "\n",
    "def clean_data(df):\n",
    "    try:\n",
    "        # Drop rows with all NaN values\n",
    "        df.dropna(how='all', inplace=True)\n",
    "\n",
    "        # Drop rows with NaN in essential columns\n",
    "        df.dropna(subset=['TEAM', 'RUNS SCORED', 'WICKETS LOST', 'WICKETS TAKEN', 'AGAINST', 'RESULT', 'VENUE'], inplace=True)\n",
    "\n",
    "        # Convert columns to appropriate data types\n",
    "        df['RUNS SCORED'] = pd.to_numeric(df['RUNS SCORED'], errors='coerce')\n",
    "        df['WICKETS LOST'] = pd.to_numeric(df['WICKETS LOST'], errors='coerce')\n",
    "        df['WICKETS TAKEN'] = pd.to_numeric(df['WICKETS TAKEN'], errors='coerce')\n",
    "\n",
    "        # Reset index\n",
    "        df.reset_index(drop=True, inplace=True)\n",
    "    except KeyError as e:\n",
    "        print(f\"Missing expected column: {e}\")\n",
    "    except Exception as e:\n",
    "        print(f\"Error cleaning data: {e}\")\n",
    "    return df\n"
   ]
  }
 ],
 "metadata": {
  "kernelspec": {
   "display_name": "Python 3",
   "language": "python",
   "name": "python3"
  },
  "language_info": {
   "codemirror_mode": {
    "name": "ipython",
    "version": 3
   },
   "file_extension": ".py",
   "mimetype": "text/x-python",
   "name": "python",
   "nbconvert_exporter": "python",
   "pygments_lexer": "ipython3",
   "version": "3.12.4"
  }
 },
 "nbformat": 4,
 "nbformat_minor": 2
}
