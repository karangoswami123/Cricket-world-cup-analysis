{
 "cells": [
  {
   "cell_type": "code",
   "execution_count": 2,
   "metadata": {},
   "outputs": [],
   "source": [
    "import pandas as pd\n",
    "\n",
    "files = {\n",
    "    \"1983\": \"CRICKET WORLD CUP - 2003.csv\",\n",
    "    \"1992\": \"CRICKET WORLD CUP - 2007.csv\",\n",
    "    \"1996\": \"CRICKET WORLD CUP - 2011.csv\",\n",
    "    \"1999\": \"CRICKET WORLD CUP - 2015.csv\",\n",
    "    \"2003\": \"CRICKET WORLD CUP - 2019.csv\",\n",
    "}\n",
    "\n",
    "def load_data():\n",
    "    dataframes = {}\n",
    "    for year, file_path in files.items():\n",
    "        try:\n",
    "            dataframes[year] = pd.read_csv(file_path)\n",
    "            print(f\"Loaded data for year {year}\")\n",
    "        except FileNotFoundError:\n",
    "            print(f\"File not found for year {year}: {file_path}\")\n",
    "        except pd.errors.EmptyDataError:\n",
    "            print(f\"No data found in file for year {year}: {file_path}\")\n",
    "        except Exception as e:\n",
    "            print(f\"Error loading data for year {year}: {e}\")\n",
    "    return dataframes\n"
   ]
  }
 ],
 "metadata": {
  "kernelspec": {
   "display_name": "Python 3",
   "language": "python",
   "name": "python3"
  },
  "language_info": {
   "codemirror_mode": {
    "name": "ipython",
    "version": 3
   },
   "file_extension": ".py",
   "mimetype": "text/x-python",
   "name": "python",
   "nbconvert_exporter": "python",
   "pygments_lexer": "ipython3",
   "version": "3.12.4"
  }
 },
 "nbformat": 4,
 "nbformat_minor": 2
}
